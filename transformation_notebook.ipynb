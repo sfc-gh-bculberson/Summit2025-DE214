{
 "metadata": {
  "kernelspec": {
   "display_name": "Streamlit Notebook",
   "name": "streamlit"
  },
  "lastEditStatus": {
   "notebookId": "hvfvu3zbupiujbtrouoy",
   "authorId": "503328055951",
   "authorName": "ADMIN",
   "authorEmail": "keith.gaputis@snowflake.com",
   "sessionId": "dcecf9d3-489f-4e64-96d6-b8084d107413",
   "lastEditTime": 1747361176068
  }
 },
 "nbformat_minor": 5,
 "nbformat": 4,
 "cells": [
  {
   "cell_type": "markdown",
   "id": "342a89a1-cb71-48bc-a386-7687a9945fac",
   "metadata": {
    "name": "MD_OVERVIEW",
    "collapsed": false
   },
   "source": "# Build a Streaming Data Pipeline in Python: Dynamic Tables\n\n## Objective\nBuild a real-time analytics pipeline using Snowflake Dynamic Tables to transform raw streaming ski resort data into actionable insights.\n\n## What You'll Learn\n- Create and chain Dynamic Tables for incremental data processing.\n- Build multi-level aggregation hierarchies (hourly → daily → weekly).\n- Implement real-time operational dashboards.\n- Apply best practices for streaming data transformations.\n\n## Architecture Overview\nThe data processing follows a layered approach:\n1.  **Raw Streaming Data**: The initial source of information.\n2.  **Hourly Aggregations**: First level of transformation, providing granular summaries.\n3.  **Daily Summaries**: Aggregation of hourly data for daily insights.\n4.  **Weekly Reports**: Highest level of aggregation for trend analysis.\n\nOperational views and KPIs are derived from these layers for real-time analytics."
  },
  {
   "cell_type": "markdown",
   "id": "bb1cbc94-cfde-49f6-8dc0-62748b33c5dd",
   "metadata": {
    "name": "MD_SETUP",
    "collapsed": false
   },
   "source": "## Lab Setup\n\n### Start Streaming Data\n1. Navigate to your GitHub Codespace.\n2. Run `docker-compose up` to begin streaming.\n3. Follow instructions in `README.md`.\n4. Keep the streamer running throughout the lab (stop with Ctrl+C).\n\n### Initialize Environment"
  },
  {
   "cell_type": "code",
   "id": "79b308ff-37eb-4280-b151-261ba3c922bb",
   "metadata": {
    "language": "sql",
    "name": "SQL_SETUP_CONTEXT"
   },
   "outputs": [],
   "source": "USE ROLE STREAMING_INGEST;\nUSE SCHEMA STREAMING_INGEST.STREAMING_INGEST;\nUSE WAREHOUSE STREAMING_INGEST;",
   "execution_count": null
  },
  {
   "cell_type": "markdown",
   "id": "d3805de4-ff8e-4f8c-8825-f2dfa10aaf17",
   "metadata": {
    "name": "MD_RAW_DATA",
    "collapsed": false
   },
   "source": "## Explore Raw Data\n\nExamine the streaming data structure from three core tables:"
  },
  {
   "cell_type": "code",
   "id": "d9e0429d-8709-4121-95d4-ee78b8ecded3",
   "metadata": {
    "language": "sql",
    "name": "SQL_EXPLORE_LIFT_RIDES",
    "collapsed": false
   },
   "outputs": [],
   "source": "-- Lift usage events (core activity data)\nSELECT \n    RESORT,\n    LIFT,\n    RIDE_TIME,\n    RFID\nFROM LIFT_RIDE \nORDER BY RIDE_TIME DESC\nLIMIT 10;",
   "execution_count": null
  },
  {
   "cell_type": "code",
   "id": "f21e8e55-3e3d-40c6-9311-fbd658115afc",
   "metadata": {
    "language": "sql",
    "name": "SQL_EXPLORE_TICKETS",
    "collapsed": false
   },
   "outputs": [],
   "source": "-- Day ticket purchases\nSELECT \n    RESORT,\n    PURCHASE_TIME,\n    PRICE_USD,\n    DAYS,\n    NAME\nFROM RESORT_TICKET \nORDER BY PURCHASE_TIME DESC\nLIMIT 10;",
   "execution_count": null
  },
  {
   "cell_type": "code",
   "id": "eb66b295-7f98-4016-9575-f73e3d66cc97",
   "metadata": {
    "language": "sql",
    "name": "SQL_EXPLORE_PASSES",
    "collapsed": false
   },
   "outputs": [],
   "source": "-- Season pass purchases\nSELECT \n    PURCHASE_TIME,\n    PRICE_USD,\n    NAME,\n    EXPIRATION_TIME\nFROM SEASON_PASS \nORDER BY PURCHASE_TIME DESC\nLIMIT 10;",
   "execution_count": null
  },
  {
   "cell_type": "markdown",
   "id": "43ec09c1-9b41-413c-b73c-25edc0d43a98",
   "metadata": {
    "name": "MD_BASIC_TRANSFORMS",
    "collapsed": false
   },
   "source": "## Part 1: Basic Transformations\n\nThese foundational Dynamic Tables provide quick insights, serve as building blocks for complex analytics, and feed real-time dashboards. A 10-minute target lag is used for near real-time updates."
  },
  {
   "cell_type": "code",
   "id": "675b1072-9812-46b3-a55a-9a42ba622168",
   "metadata": {
    "language": "sql",
    "name": "SQL_DT_DAILY_LIFT_RIDES",
    "collapsed": false
   },
   "outputs": [],
   "source": "-- Foundation table: Daily lift usage patterns\nCREATE OR REPLACE DYNAMIC TABLE LIFT_RIDES_BY_DAY \nTARGET_LAG='10 minutes' \nWAREHOUSE = STREAMING_INGEST AS\nSELECT \n    DATE_TRUNC(day, RIDE_TIME) as RIDE_DATE,\n    RESORT, \n    LIFT, \n    COUNT(*) as RIDE_COUNT\nFROM LIFT_RIDE \nGROUP BY all;",
   "execution_count": null
  },
  {
   "cell_type": "code",
   "id": "f08c1573-fd41-445f-a736-c838dbb31fd1",
   "metadata": {
    "language": "sql",
    "name": "SQL_DT_BUSIEST_LIFTS",
    "collapsed": false
   },
   "outputs": [],
   "source": "-- Real-time operational view: Today's busiest lifts\nCREATE OR REPLACE DYNAMIC TABLE BUSIEST_LIFTS_TODAY \nTARGET_LAG='10 minutes' \nWAREHOUSE = STREAMING_INGEST AS\nSELECT \n    RESORT, \n    LIFT, \n    RIDE_COUNT \nFROM LIFT_RIDES_BY_DAY \nWHERE RIDE_DATE = CURRENT_DATE() \nORDER BY RIDE_COUNT DESC \nLIMIT 10;",
   "execution_count": null
  },
  {
   "cell_type": "code",
   "id": "835ed39e-c8c9-4418-a1f1-b2b2a6dbe07a",
   "metadata": {
    "language": "sql",
    "name": "SQL_DT_DAILY_VISITORS",
    "collapsed": false
   },
   "outputs": [],
   "source": "-- Capacity management: Unique visitors per resort/day\nCREATE OR REPLACE DYNAMIC TABLE RESORT_VISITORS_BY_DAY \nTARGET_LAG='10 minutes' \nWAREHOUSE = STREAMING_INGEST AS\nSELECT \n    DATE_TRUNC(day, RIDE_TIME) as RIDE_DATE, \n    RESORT, \n    COUNT(DISTINCT RFID) as VISITOR_COUNT\nFROM LIFT_RIDE \nGROUP BY all;",
   "execution_count": null
  },
  {
   "cell_type": "code",
   "id": "4cf32173-0994-4c87-a347-60d920468eba",
   "metadata": {
    "language": "sql",
    "name": "SQL_DT_DAILY_REVENUE",
    "collapsed": false
   },
   "outputs": [],
   "source": "-- Financial tracking: Daily ticket revenue\nCREATE OR REPLACE DYNAMIC TABLE RESORT_REVENUE_BY_DAY \nTARGET_LAG='10 minutes' \nWAREHOUSE = STREAMING_INGEST AS\nSELECT \n    DATE_TRUNC(day, PURCHASE_TIME) as PURCHASE_DATE, \n    RESORT, \n    SUM(PRICE_USD) as REVENUE\nFROM RESORT_TICKET \nGROUP BY all;",
   "execution_count": null
  },
  {
   "cell_type": "code",
   "id": "dc53bb5c-947b-4c24-9c9e-26ea5175ed79",
   "metadata": {
    "language": "sql",
    "name": "SQL_DT_MONTHLY_PASSES",
    "collapsed": false
   },
   "outputs": [],
   "source": "-- Long-term revenue: Season pass sales\nCREATE OR REPLACE DYNAMIC TABLE SEASON_PASS_REVENUE_BY_MONTH \nTARGET_LAG='10 minutes' \nWAREHOUSE = STREAMING_INGEST AS\nSELECT \n    DATE_TRUNC(month, PURCHASE_TIME) as PURCHASE_MONTH, \n    SUM(PRICE_USD) as REVENUE\nFROM SEASON_PASS \nGROUP BY all;",
   "execution_count": null
  },
  {
   "cell_type": "markdown",
   "id": "049f3df1-54de-4a67-95d8-a4a881854f92",
   "metadata": {
    "name": "MD_VERIFY_BASIC",
    "collapsed": false
   },
   "source": "### Verify Your Basic Transformations\nCheck that data is flowing and updating:"
  },
  {
   "cell_type": "code",
   "id": "c5c5caa6-55c3-4899-91ea-476afe0b9dda",
   "metadata": {
    "language": "sql",
    "name": "SQL_CHECK_BUSIEST",
    "collapsed": false
   },
   "outputs": [],
   "source": "-- Check current busiest lifts\nSELECT * FROM BUSIEST_LIFTS_TODAY;",
   "execution_count": null
  },
  {
   "cell_type": "code",
   "id": "dbcc53dc-27b5-457a-85a8-fda50c948bf0",
   "metadata": {
    "language": "sql",
    "name": "SQL_CHECK_VISITORS",
    "collapsed": false
   },
   "outputs": [],
   "source": "-- Check visitor counts\nSELECT * FROM RESORT_VISITORS_BY_DAY \nWHERE RIDE_DATE = CURRENT_DATE()\nORDER BY VISITOR_COUNT DESC;",
   "execution_count": null
  },
  {
   "cell_type": "markdown",
   "id": "b65adeb2-2995-46d5-8649-98c3f15bc80a",
   "metadata": {
    "name": "MD_REFERENCE_DATA",
    "collapsed": false
   },
   "source": "## Part 2: Reference Data & Capacity Planning\n\n### Resort Capacity Configuration\nCreate reference data for capacity calculations and operational limits:"
  },
  {
   "cell_type": "code",
   "id": "7da912e8-7dbe-41f6-affb-412760010a84",
   "metadata": {
    "language": "sql",
    "name": "SQL_RESORT_CAPACITY",
    "collapsed": false
   },
   "outputs": [],
   "source": "-- Reference table: Resort operational capacity\nCREATE OR REPLACE TABLE RESORT_CAPACITY (\n    RESORT VARCHAR(100) PRIMARY KEY,\n    MAX_CAPACITY INTEGER,\n    HOURLY_CAPACITY INTEGER,\n    BASE_LIFT_COUNT INTEGER\n);\n\nINSERT INTO RESORT_CAPACITY VALUES\n('Vail', 7000, 1100, 34),\n('Beaver Creek', 5500, 900, 25),\n('Breckenridge', 6500, 1000, 35),\n('Keystone', 4500, 700, 21),\n('Heavenly', 5000, 800, 27);",
   "execution_count": null
  },
  {
   "cell_type": "markdown",
   "id": "5ed82d84-0b5a-4058-96ea-082ff53802c5",
   "metadata": {
    "name": "MD_ADVANCED_PIPELINE",
    "collapsed": false
   },
   "source": "## Part 3: Advanced Analytics Pipeline\n\n### Hierarchical Aggregation Strategy\nThis pipeline processes data in stages:\n- **Level 0 (Raw Data)**: `LIFT_RIDE`, `RESORT_TICKET`, `SEASON_PASS`\n- **Level 1 (Hourly)**: Aggregations by hour (e.g., `LIFT_RIDES_BY_HOUR`). Foundation for time-based analysis.\n- **Level 2 (Comprehensive Hourly)**: Combined hourly metrics (e.g., `RESORT_HOURLY_SUMMARY`).\n- **Level 3 (Daily)**: Roll-up of hourly data to daily summaries (e.g., `RESORT_DAILY_SUMMARY`).\n- **Level 4 (Weekly)**: Aggregation of daily data for weekly trends (e.g., `RESORT_WEEKLY_SUMMARY`).\n\nUse `TARGET_LAG='downstream'` to create dependent chains, ensuring tables refresh in sequence."
  },
  {
   "cell_type": "code",
   "id": "1338ac35-1bff-407b-a89f-0479cacc4caf",
   "metadata": {
    "language": "sql",
    "name": "SQL_HOURLY_LIFTS",
    "collapsed": false
   },
   "outputs": [],
   "source": "-- Level 1: Hourly lift usage\nCREATE OR REPLACE DYNAMIC TABLE LIFT_RIDES_BY_HOUR \nTARGET_LAG='downstream' \nWAREHOUSE = STREAMING_INGEST AS\nSELECT \n    DATE(RIDE_TIME) as RIDE_DATE,\n    HOUR(RIDE_TIME) as RIDE_HOUR,\n    RESORT, \n    LIFT,\n    COUNT(*) as RIDE_COUNT,\n    COUNT(DISTINCT RFID) as UNIQUE_VISITORS\nFROM LIFT_RIDE \nGROUP BY all;",
   "execution_count": null
  },
  {
   "cell_type": "code",
   "id": "e8d71bd5-e7c5-4f84-9bff-7a64e5a9b93c",
   "metadata": {
    "language": "sql",
    "name": "SQL_HOURLY_VISITORS",
    "collapsed": false
   },
   "outputs": [],
   "source": "-- Level 1: Hourly visitor patterns\nCREATE OR REPLACE DYNAMIC TABLE RESORT_VISITORS_BY_HOUR \nTARGET_LAG='downstream' \nWAREHOUSE = STREAMING_INGEST AS\nSELECT \n    DATE(RIDE_TIME) as RIDE_DATE,\n    HOUR(RIDE_TIME) as RIDE_HOUR,\n    RESORT,\n    COUNT(DISTINCT RFID) as VISITOR_COUNT,\n    COUNT(*) as TOTAL_RIDES\nFROM LIFT_RIDE \nGROUP BY all;",
   "execution_count": null
  },
  {
   "cell_type": "code",
   "id": "331a0e99-79d8-4af6-97e6-c57994ace8cf",
   "metadata": {
    "language": "sql",
    "name": "SQL_HOURLY_REVENUE",
    "collapsed": false
   },
   "outputs": [],
   "source": "-- Level 1: Hourly ticket sales\nCREATE OR REPLACE DYNAMIC TABLE HOURLY_TICKET_REVENUE \nTARGET_LAG='downstream' \nWAREHOUSE = STREAMING_INGEST AS\nSELECT \n    DATE(PURCHASE_TIME) as PURCHASE_DATE,\n    HOUR(PURCHASE_TIME) as PURCHASE_HOUR,\n    RESORT,\n    SUM(PRICE_USD) as TICKET_REVENUE,\n    COUNT(*) as TICKETS_SOLD\nFROM RESORT_TICKET \nGROUP BY all;",
   "execution_count": null
  },
  {
   "cell_type": "code",
   "id": "69c23ef3-f426-4f97-bdfb-c0e0529e5eb3",
   "metadata": {
    "language": "sql",
    "name": "SQL_HOURLY_PASSES",
    "collapsed": false
   },
   "outputs": [],
   "source": "-- Level 1: Season pass usage\nCREATE OR REPLACE DYNAMIC TABLE HOURLY_PASS_USAGE \nTARGET_LAG='downstream' \nWAREHOUSE = STREAMING_INGEST AS\nSELECT \n    DATE(lr.RIDE_TIME) as RIDE_DATE,\n    HOUR(lr.RIDE_TIME) as RIDE_HOUR,\n    lr.RESORT,\n    COUNT(DISTINCT sp.RFID) as ACTIVE_PASSES,\n    COUNT(*) as PASS_RIDES\nFROM LIFT_RIDE lr\nJOIN SEASON_PASS sp ON lr.RFID = sp.RFID\nGROUP BY all;",
   "execution_count": null
  },
  {
   "cell_type": "markdown",
   "id": "e737eaf3-efb7-46f5-ba91-b304f93c7c35",
   "metadata": {
    "name": "MD_COMPREHENSIVE_SUMMARY",
    "collapsed": false
   },
   "source": "### Comprehensive Hourly Summary (Level 2)\nCombine all hourly metrics into a single operational view:"
  },
  {
   "cell_type": "code",
   "id": "9090d205-5c94-49f7-9a0f-625977337fc7",
   "metadata": {
    "language": "sql",
    "name": "SQL_HOURLY_SUMMARY",
    "collapsed": false
   },
   "outputs": [],
   "source": "-- Level 2: Comprehensive hourly resort summary\nCREATE OR REPLACE DYNAMIC TABLE RESORT_HOURLY_SUMMARY \nTARGET_LAG='downstream' \nWAREHOUSE = STREAMING_INGEST AS\nWITH pass_revenue_allocation AS (\n    SELECT 5.50 as HOURLY_VALUE_USD  -- Revenue per pass use\n)\nSELECT \n    v.RIDE_DATE,\n    v.RIDE_HOUR,\n    v.RESORT,\n    v.VISITOR_COUNT,\n    v.TOTAL_RIDES,\n    COALESCE(t.TICKET_REVENUE, 0) as TICKET_REVENUE,\n    COALESCE(t.TICKETS_SOLD, 0) as TICKETS_SOLD,\n    COALESCE(p.ACTIVE_PASSES, 0) as ACTIVE_PASSES,\n    -- Calculate capacity percentage\n    (v.VISITOR_COUNT / rc.MAX_CAPACITY * 100) as CAPACITY_PCT,\n    -- Calculate total revenue (tickets + allocated pass value)\n    COALESCE(t.TICKET_REVENUE, 0) + \n    (COALESCE(p.ACTIVE_PASSES, 0) * pra.HOURLY_VALUE_USD) as TOTAL_REVENUE\nFROM RESORT_VISITORS_BY_HOUR v\nLEFT JOIN HOURLY_TICKET_REVENUE t \n    ON v.RIDE_DATE = t.PURCHASE_DATE \n    AND v.RIDE_HOUR = t.PURCHASE_HOUR \n    AND v.RESORT = t.RESORT\nLEFT JOIN HOURLY_PASS_USAGE p \n    ON v.RIDE_DATE = p.RIDE_DATE \n    AND v.RIDE_HOUR = p.RIDE_HOUR \n    AND v.RESORT = p.RESORT\nJOIN RESORT_CAPACITY rc ON v.RESORT = rc.RESORT\nCROSS JOIN pass_revenue_allocation pra;",
   "execution_count": null
  },
  {
   "cell_type": "markdown",
   "id": "83c0a7e7-09e1-421f-92d8-59448cee5007",
   "metadata": {
    "name": "MD_DAILY_AGGREGATIONS",
    "collapsed": false
   },
   "source": "### Daily Aggregations (Level 3)\nRoll up hourly data into daily business insights:"
  },
  {
   "cell_type": "code",
   "id": "19d90f67-d391-401f-8d52-1e16b0801693",
   "metadata": {
    "language": "sql",
    "name": "SQL_DAILY_SUMMARY",
    "collapsed": false
   },
   "outputs": [],
   "source": "-- Level 3: Daily resort summary (from hourly data)\nCREATE OR REPLACE DYNAMIC TABLE RESORT_DAILY_SUMMARY \nTARGET_LAG='10 minutes' \nWAREHOUSE = STREAMING_INGEST AS\nSELECT \n    RIDE_DATE,\n    RESORT,\n    MAX(VISITOR_COUNT) as PEAK_VISITORS,\n    SUM(TOTAL_RIDES) as TOTAL_RIDES,\n    SUM(TOTAL_REVENUE) as TOTAL_REVENUE,\n    SUM(TICKETS_SOLD) as TICKETS_SOLD,\n    SUM(ACTIVE_PASSES) as TOTAL_PASS_USES,\n    AVG(CAPACITY_PCT) as AVG_CAPACITY_PCT,\n    MAX(CAPACITY_PCT) as PEAK_CAPACITY_PCT,\n    COUNT(*) as OPERATION_HOURS\nFROM RESORT_HOURLY_SUMMARY\nGROUP BY all;",
   "execution_count": null
  },
  {
   "cell_type": "code",
   "id": "4a1fbb23-4ea3-43e0-9cef-0a7f0d5b9d29",
   "metadata": {
    "language": "sql",
    "name": "SQL_DAILY_LIFTS",
    "collapsed": false
   },
   "outputs": [],
   "source": "-- Level 3: Daily lift performance rankings\nCREATE OR REPLACE DYNAMIC TABLE LIFT_DAILY_SUMMARY \nTARGET_LAG='1 minute' \nWAREHOUSE = STREAMING_INGEST AS\nSELECT \n    RIDE_DATE,\n    RESORT,\n    LIFT,\n    SUM(RIDE_COUNT) as DAILY_RIDES,\n    SUM(UNIQUE_VISITORS) as DAILY_VISITORS,\n    COUNT(*) as OPERATION_HOURS,\n    RANK() OVER (PARTITION BY RESORT, RIDE_DATE \n                 ORDER BY SUM(RIDE_COUNT) DESC) as USAGE_RANK\nFROM LIFT_RIDES_BY_HOUR\nGROUP BY all;",
   "execution_count": null
  },
  {
   "cell_type": "markdown",
   "id": "7d1d17c6-259e-415a-829b-e408c0e48f9d",
   "metadata": {
    "name": "MD_WEEKLY_TRENDS",
    "collapsed": false
   },
   "source": "### Weekly Trend Analysis (Level 4)\nAggregate daily data for business intelligence:"
  },
  {
   "cell_type": "code",
   "id": "b26684d3-373c-452e-9a00-81f36c591422",
   "metadata": {
    "language": "sql",
    "name": "SQL_WEEKLY_SUMMARY",
    "collapsed": false
   },
   "outputs": [],
   "source": "-- Level 4: Weekly trends and patterns\nCREATE OR REPLACE DYNAMIC TABLE RESORT_WEEKLY_SUMMARY \nTARGET_LAG='30 minutes' \nWAREHOUSE = STREAMING_INGEST AS\nSELECT \n    DATE_TRUNC(week, RIDE_DATE) as WEEK_START_DATE,\n    RESORT,\n    MAX(PEAK_VISITORS) as WEEK_PEAK_VISITORS,\n    AVG(PEAK_VISITORS) as AVG_DAILY_VISITORS,\n    SUM(TOTAL_RIDES) as WEEK_TOTAL_RIDES,\n    SUM(TOTAL_REVENUE) as WEEK_TOTAL_REVENUE,\n    AVG(TOTAL_REVENUE) as AVG_DAILY_REVENUE,\n    SUM(TICKETS_SOLD) as WEEK_TICKETS_SOLD,\n    SUM(TOTAL_PASS_USES) as WEEK_PASS_USES,\n    AVG(AVG_CAPACITY_PCT) as AVG_WEEK_CAPACITY_PCT,\n    MAX(PEAK_CAPACITY_PCT) as WEEK_PEAK_CAPACITY_PCT,\n    COUNT(*) as OPERATION_DAYS\nFROM RESORT_DAILY_SUMMARY\nGROUP BY all;",
   "execution_count": null
  },
  {
   "cell_type": "markdown",
   "id": "cc1ced3d-0c7b-49d6-bc13-5825582b10ef",
   "metadata": {
    "name": "MD_OPERATIONAL_VIEWS",
    "collapsed": false
   },
   "source": "## Part 4: Real-Time Operational Views\n\n### Mission-Critical Dashboards\nCreate live operational intelligence for resort management:"
  },
  {
   "cell_type": "code",
   "id": "2e0b33fe-2147-48b5-afa0-a9142b7d7db0",
   "metadata": {
    "language": "sql",
    "name": "SQL_CURRENT_STATUS",
    "collapsed": false
   },
   "outputs": [],
   "source": "-- Real-time resort status (refreshes every minute)\nCREATE OR REPLACE DYNAMIC TABLE CURRENT_RESORT_STATUS \nTARGET_LAG='1 minute' \nWAREHOUSE = STREAMING_INGEST AS\nSELECT \n    RESORT,\n    VISITOR_COUNT as CURRENT_VISITORS,\n    CAPACITY_PCT as CURRENT_CAPACITY_PCT,\n    TOTAL_RIDES as CURRENT_HOUR_RIDES,\n    TOTAL_REVENUE as CURRENT_HOUR_REVENUE,\n    CASE \n        WHEN CAPACITY_PCT > 90 THEN 'HIGH'\n        WHEN CAPACITY_PCT > 70 THEN 'MODERATE'\n        ELSE 'NORMAL'\n    END as CAPACITY_STATUS\nFROM RESORT_HOURLY_SUMMARY\nWHERE RIDE_DATE = CURRENT_DATE()\nAND RIDE_HOUR = HOUR(CURRENT_TIMESTAMP());",
   "execution_count": null
  },
  {
   "cell_type": "code",
   "id": "ba5e3122-3b84-40e6-8950-430d55ea5f80",
   "metadata": {
    "language": "sql",
    "name": "SQL_TOP_LIFTS_TODAY",
    "collapsed": false
   },
   "outputs": [],
   "source": "-- Today's top performing lifts by resort\nCREATE OR REPLACE DYNAMIC TABLE TOP_LIFTS_TODAY \nTARGET_LAG='1 minute' \nWAREHOUSE = STREAMING_INGEST AS\nSELECT \n    RESORT,\n    LIFT,\n    DAILY_RIDES,\n    DAILY_VISITORS,\n    USAGE_RANK\nFROM LIFT_DAILY_SUMMARY\nWHERE RIDE_DATE = CURRENT_DATE()\nAND USAGE_RANK <= 5\nORDER BY RESORT, USAGE_RANK;",
   "execution_count": null
  },
  {
   "cell_type": "code",
   "id": "7bd2b465-1232-427a-b2df-88e6ad78cf07",
   "metadata": {
    "language": "sql",
    "name": "SQL_REVENUE_PERFORMANCE",
    "collapsed": false
   },
   "outputs": [],
   "source": "-- Daily revenue performance vs targets\nCREATE OR REPLACE DYNAMIC TABLE REVENUE_PERFORMANCE_DAILY \nTARGET_LAG='10 minutes' \nWAREHOUSE = STREAMING_INGEST AS\nWITH daily_targets AS (\n    SELECT \n        rds.RESORT,\n        rds.RIDE_DATE,\n        (rc.MAX_CAPACITY * 0.7 * 100) as REVENUE_TARGET_USD\n    FROM RESORT_DAILY_SUMMARY rds\n    JOIN RESORT_CAPACITY rc ON rds.RESORT = rc.RESORT\n)\nSELECT \n    rds.RIDE_DATE,\n    rds.RESORT,\n    rds.TOTAL_REVENUE,\n    dt.REVENUE_TARGET_USD,\n    (rds.TOTAL_REVENUE / dt.REVENUE_TARGET_USD * 100) as REVENUE_TARGET_PCT,\n    CASE \n        WHEN rds.TOTAL_REVENUE >= dt.REVENUE_TARGET_USD THEN 'ABOVE_TARGET'\n        WHEN rds.TOTAL_REVENUE >= dt.REVENUE_TARGET_USD * 0.9 THEN 'NEAR_TARGET'\n        ELSE 'BELOW_TARGET'\n    END as PERFORMANCE_STATUS\nFROM RESORT_DAILY_SUMMARY rds\nJOIN daily_targets dt ON rds.RESORT = dt.RESORT AND rds.RIDE_DATE = dt.RIDE_DATE;",
   "execution_count": null
  },
  {
   "cell_type": "markdown",
   "id": "4c05fc18-f1e9-47c6-b234-92da774869d2",
   "metadata": {
    "name": "MD_TESTING_VALIDATION",
    "collapsed": false
   },
   "source": "## Part 5: Testing & Validation\n\n### Monitor Your Pipeline\nUse these queries to verify your Dynamic Tables are working correctly:"
  },
  {
   "cell_type": "code",
   "id": "8abc7982-0db4-4a4f-a44a-2d923dfdd3fd",
   "metadata": {
    "language": "sql",
    "name": "SQL_CHECK_STATUS",
    "collapsed": false
   },
   "outputs": [],
   "source": "-- Check current operational status\nSELECT \n    RESORT,\n    CURRENT_VISITORS,\n    CURRENT_CAPACITY_PCT,\n    CAPACITY_STATUS,\n    CURRENT_HOUR_REVENUE\nFROM CURRENT_RESORT_STATUS\nORDER BY CURRENT_CAPACITY_PCT DESC;",
   "execution_count": null
  },
  {
   "cell_type": "code",
   "id": "5e43d485-4860-467c-a0a5-ce8e1b63c0da",
   "metadata": {
    "language": "sql",
    "name": "SQL_CHECK_TOP_LIFTS",
    "collapsed": false
   },
   "outputs": [],
   "source": "-- View today's top lifts\nSELECT * FROM TOP_LIFTS_TODAY\nORDER BY RESORT, USAGE_RANK;",
   "execution_count": null
  },
  {
   "cell_type": "code",
   "id": "46284f75-841a-4bbd-ab01-ee1be1498eb0",
   "metadata": {
    "language": "sql",
    "name": "SQL_CHECK_REVENUE",
    "collapsed": false
   },
   "outputs": [],
   "source": "-- Check revenue performance\nSELECT \n    RESORT,\n    TOTAL_REVENUE,\n    REVENUE_TARGET_USD,\n    REVENUE_TARGET_PCT,\n    PERFORMANCE_STATUS\nFROM REVENUE_PERFORMANCE_DAILY\nWHERE RIDE_DATE = CURRENT_DATE()\nORDER BY REVENUE_TARGET_PCT DESC;",
   "execution_count": null
  },
  {
   "cell_type": "markdown",
   "id": "a902b894-6ee7-424c-9ff2-4db0ecf6d9ac",
   "metadata": {
    "name": "MD_MONITORING",
    "collapsed": false
   },
   "source": "### Monitor Dynamic Table Health\nTrack refresh history and performance:"
  },
  {
   "cell_type": "code",
   "id": "3681f14f-b1c0-4657-8aa4-0635ea5cd7d7",
   "metadata": {
    "language": "sql",
    "name": "SQL_REFRESH_HISTORY",
    "collapsed": false
   },
   "outputs": [],
   "source": "-- Check refresh history for performance monitoring\nSELECT \n    name, \n    refresh_start_time, \n    state, \n    refresh_end_time,\n    DATEDIFF('second', refresh_start_time, refresh_end_time) as duration_seconds\nFROM TABLE(INFORMATION_SCHEMA.DYNAMIC_TABLE_REFRESH_HISTORY())\nWHERE name LIKE '%RESORT_%'\nORDER BY refresh_start_time DESC\nLIMIT 20;",
   "execution_count": null
  },
  {
   "cell_type": "code",
   "id": "e0194b38-4741-4fa3-841a-a243681d7058",
   "metadata": {
    "language": "sql",
    "name": "SQL_TABLE_STATUS",
    "collapsed": false
   },
   "outputs": [],
   "source": "-- Check Dynamic Table status and refresh modes\nSHOW DYNAMIC TABLES;\nSELECT \n    \"name\", \n    \"rows\", \n    \"target_lag\", \n    \"refresh_mode\", \n    \"refresh_mode_reason\"\nFROM TABLE(RESULT_SCAN(LAST_QUERY_ID()))\nWHERE \"name\" NOT LIKE '%LIFT_RIDES_BY_DAY%';  -- Filter out basic tables",
   "execution_count": null
  },
  {
   "cell_type": "markdown",
   "id": "b6534b9e-7f4b-4790-98db-8c54c463a672",
   "metadata": {
    "name": "MD_HOURLY_INSIGHTS",
    "collapsed": false
   },
   "source": "### Explore Hourly Insights\nInvestigate patterns in your aggregated data:"
  },
  {
   "cell_type": "code",
   "id": "6f2c133f-22c6-4bff-8427-ae3d3f14dbd2",
   "metadata": {
    "language": "sql",
    "name": "SQL_HOURLY_PATTERNS",
    "collapsed": false
   },
   "outputs": [],
   "source": "-- Analyze hourly visitor patterns\nSELECT \n    RIDE_HOUR,\n    RESORT,\n    AVG(VISITOR_COUNT) as AVG_VISITORS,\n    AVG(CAPACITY_PCT) as AVG_CAPACITY\nFROM RESORT_HOURLY_SUMMARY\nWHERE RIDE_DATE = CURRENT_DATE()\nGROUP BY RIDE_HOUR, RESORT\nORDER BY RIDE_HOUR, RESORT;",
   "execution_count": null
  },
  {
   "cell_type": "code",
   "id": "51fad9af-500c-4d57-9673-55015ead257b",
   "metadata": {
    "language": "sql",
    "name": "SQL_PEAK_ANALYSIS",
    "collapsed": false
   },
   "outputs": [],
   "source": "-- Identify peak hours by resort\nSELECT \n    RESORT,\n    RIDE_HOUR,\n    VISITOR_COUNT,\n    CAPACITY_PCT,\n    TOTAL_REVENUE\nFROM RESORT_HOURLY_SUMMARY\nWHERE RIDE_DATE = CURRENT_DATE()\nQUALIFY ROW_NUMBER() OVER (PARTITION BY RESORT ORDER BY VISITOR_COUNT DESC) = 1\nORDER BY VISITOR_COUNT DESC;",
   "execution_count": null
  },
  {
   "cell_type": "markdown",
   "id": "9c204786-8595-4c65-85fd-846aeb80e8b9",
   "metadata": {
    "name": "MD_RESET_SIMULATION",
    "collapsed": false
   },
   "source": "## Lab Management\n\n### Reset Simulation (if needed)\nUse this to restart your data stream:"
  },
  {
   "cell_type": "code",
   "id": "ff48e581-c957-4b74-b4c4-63ed357e9406",
   "metadata": {
    "language": "sql",
    "name": "SQL_RESET_DATA",
    "collapsed": false
   },
   "outputs": [],
   "source": "-- WARNING: This deletes all streaming data.\n-- Only run if you need to reset the simulation.\n/*\nDELETE FROM LIFT_RIDE;\nDELETE FROM RESORT_TICKET;\nDELETE FROM SEASON_PASS;\n*/",
   "execution_count": null
  },
  {
   "cell_type": "markdown",
   "id": "23c84da1-fbd9-4054-869f-da0cea45f332",
   "metadata": {
    "name": "MD_COMPLETION",
    "collapsed": false
   },
   "source": "## Lab Complete!\n\n### What You've Built\n- Multi-level aggregation pipeline (Raw → Hourly → Daily → Weekly).\n- Real-time operational dashboards with 1-minute refresh.\n- Capacity management with live status indicators.\n- Revenue tracking with performance targets.\n- Hierarchical data dependencies using `TARGET_LAG` strategies.\n\n### Key Takeaways\n- Dynamic Tables automatically handle incremental processing.\n- `TARGET_LAG='downstream'` creates efficient refresh chains.\n- Near real-time analytics can be implemented in a declarative style.\n\n### Next Steps\n- Extend the pipeline with additional analytics.\n- Build Streamlit dashboards using these Dynamic Tables.\n\n---\n*Great job completing the notebook portion of this lab!*"
  }
 ]
}